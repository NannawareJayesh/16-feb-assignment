{
 "cells": [
  {
   "cell_type": "markdown",
   "id": "7df13558-01a9-426a-aff3-4fd518396c0c",
   "metadata": {},
   "source": [
    "## 16 feb assignment"
   ]
  },
  {
   "cell_type": "markdown",
   "id": "84b9c7c7-c170-4c23-895f-2a950c08df58",
   "metadata": {},
   "source": [
    "Q1. What is a database? Differentiate between SQL and NoSQL databases."
   ]
  },
  {
   "cell_type": "markdown",
   "id": "a7df6657-88e1-412e-9812-a2bb8d80adaa",
   "metadata": {},
   "source": [
    "A database is a collection of data that is organized in a way that allows for efficient storage, retrieval, and management of data. It is used to store and manage structured data such as text, numbers, and dates.\n",
    "\n",
    "SQL and NoSQL databases are two different types of database management systems that differ in their data models, scalability, and usage.\n",
    "\n",
    "SQL databases, also known as relational databases, are based on a structured query language (SQL) that is used to manage and manipulate data stored in tables. These databases are organized into tables with a defined schema and support ACID transactions, making them suitable for applications that require complex queries, strong consistency, and data integrity. Examples of SQL databases include MySQL, PostgreSQL, and Oracle.\n",
    "\n",
    "NoSQL databases, on the other hand, are non-relational databases that use a variety of data models, such as document, key-value, graph, and column-family. These databases are designed to handle large volumes of unstructured and semi-structured data, and they provide high scalability, availability, and performance. They are suitable for applications that require distributed architectures, high availability, and flexible data models. Examples of NoSQL databases include MongoDB, Cassandra, and Redis."
   ]
  },
  {
   "cell_type": "markdown",
   "id": "29d695e2-efe2-4483-9d02-73ba3c2f7aa2",
   "metadata": {},
   "source": [
    "Q2. What is DDL? Explain why CREATE, DROP, ALTER, and TRUNCATE are used with an example."
   ]
  },
  {
   "cell_type": "markdown",
   "id": "6a7832bb-ebef-4b86-84d5-a52537c9d0d4",
   "metadata": {},
   "source": [
    "DDL stands for Data Definition Language, which is a subset of SQL (Structured Query Language) that is used to define the structure of a database, including tables, indexes, constraints, and other database objects.\n",
    "\n",
    "CREATE: This command is used to create a new database object such as a table, index, or view. For example, to create a new table called \"employees\" with columns for name, age, and salary, the following SQL statement can be used\n",
    "\n"
   ]
  },
  {
   "cell_type": "markdown",
   "id": "62c05ecb-8c1a-4553-bd9e-05530aa11648",
   "metadata": {},
   "source": [
    "CREATE TABLE employees (\n",
    "    name VARCHAR(50),\n",
    "    age INT,\n",
    "    salary DECIMAL(10, 2));\n"
   ]
  },
  {
   "cell_type": "markdown",
   "id": "6dad36dd-0d5b-4ec0-b594-3a2ba1f1524c",
   "metadata": {},
   "source": [
    "DROP: This command is used to delete a database object, such as a table or index. For example, to drop the \"employees\" table, the following SQL statement can be used:\n",
    "\n",
    "SQL QUERY\n",
    "\n",
    "DROP TABLE employees;"
   ]
  },
  {
   "cell_type": "markdown",
   "id": "6cfd7929-f77c-46d8-8b4d-02c3ac4159fa",
   "metadata": {},
   "source": [
    "ALTER: This command is used to modify the structure of an existing database object. For example, to add a new column called \"department\" to the \"employees\" table, the following SQL statement can be used:\n",
    "\n",
    "SQL QUERY\n",
    "\n",
    "ALTER TABLE employees ADD COLUMN department VARCHAR(50);"
   ]
  },
  {
   "cell_type": "markdown",
   "id": "9a129d1a-e0b0-44c8-8b4c-6c9a059afa00",
   "metadata": {},
   "source": [
    "TRUNCATE: This command is used to delete all the data in a table while keeping the table structure intact. For example, to delete all the data in the \"employees\" table, the following SQL statement can be used:\n",
    "\n",
    "SQL QUERY\n",
    "\n",
    "TRUNCATE TABLE employees;"
   ]
  },
  {
   "cell_type": "markdown",
   "id": "4ed1dcc1-e584-447c-b496-f5d4afc39a89",
   "metadata": {},
   "source": [
    "Q3. What is DML? Explain INSERT, UPDATE, and DELETE with an example."
   ]
  },
  {
   "cell_type": "markdown",
   "id": "04b9c03b-0885-4d25-ab25-2f131447d5ff",
   "metadata": {},
   "source": [
    " DML stands for Data Manipulation Language, which is a subset of SQL (Structured Query Language) that is used to manipulate data stored in a database. DML commands include INSERT, UPDATE, DELETE, and SELECT. Here, I will explain the INSERT, UPDATE, and DELETE commands with examples."
   ]
  },
  {
   "cell_type": "markdown",
   "id": "623a2974-231f-4d26-aacd-c173c1f9936e",
   "metadata": {},
   "source": [
    "INSERT: This command is used to insert new data into a table. For example, to insert a new record into a \"students\" table with values for name, age, and gender, the following SQL statement can be used:\n",
    "\n",
    "SQL QUERY\n",
    "\n",
    "INSERT INTO students (name, age, gender) VALUES ('Pintu', 20, 'Male');"
   ]
  },
  {
   "cell_type": "markdown",
   "id": "25b9b1ae-f221-4a88-b38f-3e291ef9b0fa",
   "metadata": {},
   "source": [
    "UPDATE: This command is used to update existing data in a table. For example, to update the age of a student with the name \"NAMDEV\" to 21, the following SQL statement can be used:\n",
    "\n",
    "SQL QUERY\n",
    "\n",
    "UPDATE students SET age = 21 WHERE name = 'NAMDEV';"
   ]
  },
  {
   "cell_type": "markdown",
   "id": "24875a7e-7fc7-4d75-959d-44ffe870cd05",
   "metadata": {},
   "source": [
    "DELETE: This command is used to delete data from a table. For example, to delete a record from the \"students\" table where the name is \"Tukaram\", the following SQL statement can be used:\n",
    "\n",
    "SQL QUERY\n",
    "\n",
    "DELETE FROM students WHERE name = 'Tukaram';"
   ]
  },
  {
   "cell_type": "markdown",
   "id": "2dffe41e-3e13-4cfb-8932-54b930d04387",
   "metadata": {},
   "source": [
    "Q4. What is DQL? Explain SELECT with an example."
   ]
  },
  {
   "cell_type": "markdown",
   "id": "52a6d8c4-a7d7-4d63-9c01-247960c9ad53",
   "metadata": {},
   "source": [
    "DQL stands for Data Query Language, which is a subset of SQL (Structured Query Language) that is used to retrieve data from a database. The most commonly used DQL command is SELECT, which is used to retrieve data from one or more tables in a database based on specified criteria.\n",
    "\n",
    "Suppose we have a table named \"employees\" with columns for name, age, salary, and department. We want to retrieve the names and salaries of all employees who work in the \"Sales\" department and earn more than 50,000 per year. We can use the following SQL statement:"
   ]
  },
  {
   "cell_type": "markdown",
   "id": "e769aa9c-4080-418d-b6f8-48675faa2bc9",
   "metadata": {},
   "source": [
    "SELECT name, salary FROM employees WHERE department = 'Sales' AND salary > 50000;\n"
   ]
  },
  {
   "cell_type": "markdown",
   "id": "a2d88931-5879-4b2c-a8c4-923b02269a59",
   "metadata": {},
   "source": [
    "Q5. Explain Primary Key and Foreign Key."
   ]
  },
  {
   "cell_type": "markdown",
   "id": "321cd835-7ab1-4175-9612-e83462ce6597",
   "metadata": {},
   "source": [
    " Primary Key and Foreign Key are two important concepts in database design that are used to establish relationships between tables in a database.\n",
    "\n",
    "A Primary Key is a column or a combination of columns in a table that uniquely identifies each row in the table. The primary key is used to enforce data integrity and ensure that each row in the table is unique. For example, in a table of students, the student ID number could be used as the primary key since each student has a unique ID number. A table can have only one primary key.\n",
    "\n",
    "A Foreign Key is a column or a combination of columns in a table that refers to the primary key of another table. The foreign key establishes a relationship between the two tables and is used to enforce referential integrity. For example, if we have a table of courses and a table of students, we can use a foreign key in the courses table to refer to the student ID in the students table. This ensures that each course in the courses table is associated with a valid student in the students table."
   ]
  },
  {
   "cell_type": "markdown",
   "id": "723ff360-252a-4a79-9156-8ef2f7536ef4",
   "metadata": {},
   "source": [
    "Q6. Write a python code to connect MySQL to python. Explain the cursor() and execute() method."
   ]
  },
  {
   "cell_type": "code",
   "execution_count": null,
   "id": "cca27dbb-e999-42d9-b365-bca5eb54d29b",
   "metadata": {},
   "outputs": [],
   "source": [
    "import mysql.connector\n",
    "\n",
    "# Establishing a connection to the MySQL database\n",
    "mydb = mysql.connector.connect(\n",
    "  host=\"localhost\",\n",
    "  user=\"yourusername\",\n",
    "  password=\"yourpassword\",\n",
    "  database=\"yourdatabase\"\n",
    ")\n",
    "\n",
    "# Creating a cursor object to interact with the database\n",
    "mycursor = mydb.cursor()\n",
    "\n",
    "# Executing a query\n",
    "mycursor.execute(\"SELECT * FROM customers\")\n",
    "\n",
    "# Fetching the results of the query\n",
    "result = mycursor.fetchall()\n",
    "\n",
    "# Printing the results\n",
    "for row in result:\n",
    "  print(row)\n"
   ]
  },
  {
   "cell_type": "markdown",
   "id": "47b692de-5cb4-4a8d-9650-3290e3732f3b",
   "metadata": {},
   "source": [
    "Once we have established a connection, we create a cursor object using the cursor() method of the database connection. The cursor is used to execute SQL statements and retrieve the results.\n",
    "\n",
    "We then execute a SELECT query using the execute() method of the cursor, passing in the SQL statement as a parameter. This statement fetches all rows from the \"customers\" table.\n",
    "\n",
    "After executing the query, we fetch the results using the fetchall() method of the cursor. This method retrieves all the rows returned by the query.\n",
    "\n",
    "Finally, we loop through the results and print each row.\n",
    "\n",
    "In summary, the cursor() method creates a cursor object that is used to interact with the database, and the execute() method is used to execute SQL statements on the database through the cursor object."
   ]
  },
  {
   "cell_type": "markdown",
   "id": "49c52d80-21bf-423b-bac3-686bec2cc683",
   "metadata": {},
   "source": [
    "Q7. Give the order of execution of SQL clauses in an SQL query."
   ]
  },
  {
   "cell_type": "markdown",
   "id": "76b0892a-ed57-496d-80c2-0edcac54dab7",
   "metadata": {},
   "source": [
    "In an SQL query, the order of execution of the SQL clauses is as follows:\n",
    "\n",
    "    FROM clause: This clause specifies the table(s) from which the data is to be retrieved.\n",
    "\n",
    "    JOIN clause: If the query involves more than one table, the JOIN clause is used to combine the data from different tables based on a common column.\n",
    "\n",
    "    WHERE clause: This clause is used to filter the data based on specific conditions.\n",
    "\n",
    "    GROUP BY clause: This clause is used to group the data based on one or more columns.\n",
    "\n",
    "    HAVING clause: This clause is used to filter the grouped data based on specific conditions.\n",
    "\n",
    "    SELECT clause: This clause is used to select the columns to be retrieved from the table(s).\n",
    "\n",
    "    DISTINCT clause: This clause is used to remove duplicate rows from the results.\n",
    "\n",
    "    ORDER BY clause: This clause is used to sort the results based on one or more columns.\n",
    "\n",
    "    LIMIT/OFFSET clause: This clause is used to limit the number of rows returned or to skip a certain number of rows."
   ]
  },
  {
   "cell_type": "code",
   "execution_count": null,
   "id": "35b8ca74-39d9-4f69-b4d4-ce331c20d4e3",
   "metadata": {},
   "outputs": [],
   "source": []
  }
 ],
 "metadata": {
  "kernelspec": {
   "display_name": "Python 3 (ipykernel)",
   "language": "python",
   "name": "python3"
  },
  "language_info": {
   "codemirror_mode": {
    "name": "ipython",
    "version": 3
   },
   "file_extension": ".py",
   "mimetype": "text/x-python",
   "name": "python",
   "nbconvert_exporter": "python",
   "pygments_lexer": "ipython3",
   "version": "3.10.8"
  }
 },
 "nbformat": 4,
 "nbformat_minor": 5
}
